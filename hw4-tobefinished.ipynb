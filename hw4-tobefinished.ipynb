{
 "cells": [
  {
   "cell_type": "markdown",
   "metadata": {},
   "source": [
    "HW4: Exceptions and unit tests\n",
    "\n",
    "In HW1, you downloaded the data from https://data.seattle.gov/resource/4xy5-26gy.csv and put it in a data directory. In general, we don't keep data in github because of limitations on github storage.\n",
    "\n",
    "In this homework, you will develop a function and related tests to manage downloaded data. You will use a technique that is very common in software engineering called data caching. You will implement two functions. Both have a single argument, a URL of a data you want to access. The first function, get_data, downloads the data if it is not present locally; if the data are already present, then it takes no action. The second function, delete_data, removes the data if it is present locally.\n",
    "\n",
    "The grading rubric is:\n",
    "\n",
    "Correctly implement get_data with an exception if the URL does not exist. (Hint: Try downloading the file using urllib3 instead of wget.) (2 pt)\n",
    "Correctly implement remove_data (1/2 pt)\n",
    "Implement tests for get_data that consider the following cases: (a) file is present locally; (b) file is not present locally, and the URL points to a file that exists; and (c) URL does not point to a file that exists. (2 pt)\n",
    "Correctly implement tests for remove_data (1/2 pt)\n",
    "Tests should be in a separate file from the functions get_data and remove_data."
   ]
  },
  {
   "cell_type": "code",
   "execution_count": 41,
   "metadata": {
    "collapsed": true
   },
   "outputs": [],
   "source": [
    "import urllib.request\n",
    "import os.path"
   ]
  },
  {
   "cell_type": "code",
   "execution_count": 48,
   "metadata": {
    "collapsed": false
   },
   "outputs": [
    {
     "name": "stdout",
     "output_type": "stream",
     "text": [
      "url retrieve successfully!\n"
     ]
    }
   ],
   "source": [
    "def get_data(s):\n",
    "    try:\n",
    "        if not os.path.isfile('data.txt'):\n",
    "            r = urllib.request.urlretrieve(s, 'data.txt')\n",
    "            print('url retrieved successfully!')\n",
    "            return r\n",
    "    except urllib3.exceptions.HTTPError:\n",
    "        print('please provide valid url')\n",
    "\n",
    "response = get_data(\"https://data.seattle.gov/resource/4xy5-26gy.csv\")"
   ]
  },
  {
   "cell_type": "code",
   "execution_count": 50,
   "metadata": {
    "collapsed": false
   },
   "outputs": [],
   "source": [
    "def remove_data():\n",
    "    if os.path.isfile('data.txt'):\n",
    "        os.remove('data.txt')\n",
    "        print('data.txt removed successfully!')\n"
   ]
  },
  {
   "cell_type": "code",
   "execution_count": 51,
   "metadata": {
    "collapsed": false
   },
   "outputs": [
    {
     "name": "stdout",
     "output_type": "stream",
     "text": [
      "data.txt removed successfully!\n"
     ]
    }
   ],
   "source": [
    "remove_data()\n"
   ]
  },
  {
   "cell_type": "code",
   "execution_count": null,
   "metadata": {
    "collapsed": true
   },
   "outputs": [],
   "source": []
  }
 ],
 "metadata": {
  "kernelspec": {
   "display_name": "Python 3",
   "language": "python",
   "name": "python3"
  },
  "language_info": {
   "codemirror_mode": {
    "name": "ipython",
    "version": 3
   },
   "file_extension": ".py",
   "mimetype": "text/x-python",
   "name": "python",
   "nbconvert_exporter": "python",
   "pygments_lexer": "ipython3",
   "version": "3.6.0"
  }
 },
 "nbformat": 4,
 "nbformat_minor": 2
}
